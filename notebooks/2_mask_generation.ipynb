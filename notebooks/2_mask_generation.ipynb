{
 "cells": [
  {
   "cell_type": "code",
   "execution_count": 10,
   "id": "20741326-2be0-40fe-82ed-9c87de8afac1",
   "metadata": {},
   "outputs": [
    {
     "name": "stdout",
     "output_type": "stream",
     "text": [
      "Requirement already satisfied: matplotlib in c:\\users\\deepika\\appdata\\local\\programs\\python\\python312\\lib\\site-packages (3.10.3)\n",
      "Requirement already satisfied: contourpy>=1.0.1 in c:\\users\\deepika\\appdata\\local\\programs\\python\\python312\\lib\\site-packages (from matplotlib) (1.3.2)\n",
      "Requirement already satisfied: cycler>=0.10 in c:\\users\\deepika\\appdata\\local\\programs\\python\\python312\\lib\\site-packages (from matplotlib) (0.12.1)\n",
      "Requirement already satisfied: fonttools>=4.22.0 in c:\\users\\deepika\\appdata\\local\\programs\\python\\python312\\lib\\site-packages (from matplotlib) (4.58.4)\n",
      "Requirement already satisfied: kiwisolver>=1.3.1 in c:\\users\\deepika\\appdata\\local\\programs\\python\\python312\\lib\\site-packages (from matplotlib) (1.4.8)\n",
      "Requirement already satisfied: numpy>=1.23 in c:\\users\\deepika\\appdata\\local\\programs\\python\\python312\\lib\\site-packages (from matplotlib) (2.2.2)\n",
      "Requirement already satisfied: packaging>=20.0 in c:\\users\\deepika\\appdata\\local\\programs\\python\\python312\\lib\\site-packages (from matplotlib) (23.2)\n",
      "Requirement already satisfied: pillow>=8 in c:\\users\\deepika\\appdata\\local\\programs\\python\\python312\\lib\\site-packages (from matplotlib) (11.1.0)\n",
      "Requirement already satisfied: pyparsing>=2.3.1 in c:\\users\\deepika\\appdata\\local\\programs\\python\\python312\\lib\\site-packages (from matplotlib) (3.2.3)\n",
      "Requirement already satisfied: python-dateutil>=2.7 in c:\\users\\deepika\\appdata\\local\\programs\\python\\python312\\lib\\site-packages (from matplotlib) (2.8.2)\n",
      "Requirement already satisfied: six>=1.5 in c:\\users\\deepika\\appdata\\local\\programs\\python\\python312\\lib\\site-packages (from python-dateutil>=2.7->matplotlib) (1.16.0)\n"
     ]
    },
    {
     "name": "stderr",
     "output_type": "stream",
     "text": [
      "\n",
      "[notice] A new release of pip is available: 25.0 -> 25.1.1\n",
      "[notice] To update, run: python.exe -m pip install --upgrade pip\n"
     ]
    },
    {
     "name": "stdout",
     "output_type": "stream",
     "text": [
      "Collecting opencv-python\n",
      "  Downloading opencv_python-4.11.0.86-cp37-abi3-win_amd64.whl.metadata (20 kB)\n",
      "Requirement already satisfied: numpy>=1.21.2 in c:\\users\\deepika\\appdata\\local\\programs\\python\\python312\\lib\\site-packages (from opencv-python) (2.2.2)\n",
      "Downloading opencv_python-4.11.0.86-cp37-abi3-win_amd64.whl (39.5 MB)\n",
      "   ---------------------------------------- 0.0/39.5 MB ? eta -:--:--\n",
      "    --------------------------------------- 0.5/39.5 MB 8.5 MB/s eta 0:00:05\n",
      "   -- ------------------------------------- 2.4/39.5 MB 6.4 MB/s eta 0:00:06\n",
      "   --- ------------------------------------ 3.7/39.5 MB 6.2 MB/s eta 0:00:06\n",
      "   ---- ----------------------------------- 4.7/39.5 MB 5.7 MB/s eta 0:00:07\n",
      "   ----- ---------------------------------- 5.5/39.5 MB 5.3 MB/s eta 0:00:07\n",
      "   ------ --------------------------------- 6.6/39.5 MB 5.1 MB/s eta 0:00:07\n",
      "   ------- -------------------------------- 7.3/39.5 MB 4.9 MB/s eta 0:00:07\n",
      "   ------- -------------------------------- 7.9/39.5 MB 4.7 MB/s eta 0:00:07\n",
      "   --------- ------------------------------ 8.9/39.5 MB 4.6 MB/s eta 0:00:07\n",
      "   --------- ------------------------------ 9.4/39.5 MB 4.4 MB/s eta 0:00:07\n",
      "   ---------- ----------------------------- 10.0/39.5 MB 4.2 MB/s eta 0:00:07\n",
      "   ---------- ----------------------------- 10.5/39.5 MB 4.1 MB/s eta 0:00:08\n",
      "   ----------- ---------------------------- 11.0/39.5 MB 4.0 MB/s eta 0:00:08\n",
      "   ----------- ---------------------------- 11.5/39.5 MB 3.8 MB/s eta 0:00:08\n",
      "   ------------ --------------------------- 12.1/39.5 MB 3.7 MB/s eta 0:00:08\n",
      "   ------------ --------------------------- 12.6/39.5 MB 3.7 MB/s eta 0:00:08\n",
      "   ------------- -------------------------- 13.1/39.5 MB 3.6 MB/s eta 0:00:08\n",
      "   ------------- -------------------------- 13.6/39.5 MB 3.6 MB/s eta 0:00:08\n",
      "   -------------- ------------------------- 14.4/39.5 MB 3.5 MB/s eta 0:00:08\n",
      "   -------------- ------------------------- 14.7/39.5 MB 3.5 MB/s eta 0:00:08\n",
      "   --------------- ------------------------ 15.2/39.5 MB 3.4 MB/s eta 0:00:08\n",
      "   --------------- ------------------------ 15.7/39.5 MB 3.3 MB/s eta 0:00:08\n",
      "   ---------------- ----------------------- 16.5/39.5 MB 3.3 MB/s eta 0:00:07\n",
      "   ----------------- ---------------------- 17.0/39.5 MB 3.3 MB/s eta 0:00:07\n",
      "   ------------------ --------------------- 17.8/39.5 MB 3.3 MB/s eta 0:00:07\n",
      "   ------------------ --------------------- 18.6/39.5 MB 3.3 MB/s eta 0:00:07\n",
      "   ------------------- -------------------- 19.1/39.5 MB 3.3 MB/s eta 0:00:07\n",
      "   ------------------- -------------------- 19.7/39.5 MB 3.3 MB/s eta 0:00:07\n",
      "   -------------------- ------------------- 20.2/39.5 MB 3.2 MB/s eta 0:00:06\n",
      "   -------------------- ------------------- 20.7/39.5 MB 3.2 MB/s eta 0:00:06\n",
      "   --------------------- ------------------ 21.5/39.5 MB 3.2 MB/s eta 0:00:06\n",
      "   ---------------------- ----------------- 22.0/39.5 MB 3.2 MB/s eta 0:00:06\n",
      "   ----------------------- ---------------- 22.8/39.5 MB 3.2 MB/s eta 0:00:06\n",
      "   ----------------------- ---------------- 23.6/39.5 MB 3.2 MB/s eta 0:00:05\n",
      "   ------------------------ --------------- 24.4/39.5 MB 3.2 MB/s eta 0:00:05\n",
      "   ------------------------- -------------- 25.2/39.5 MB 3.2 MB/s eta 0:00:05\n",
      "   -------------------------- ------------- 25.7/39.5 MB 3.2 MB/s eta 0:00:05\n",
      "   -------------------------- ------------- 26.5/39.5 MB 3.2 MB/s eta 0:00:05\n",
      "   --------------------------- ------------ 27.0/39.5 MB 3.2 MB/s eta 0:00:04\n",
      "   --------------------------- ------------ 27.5/39.5 MB 3.2 MB/s eta 0:00:04\n",
      "   ---------------------------- ----------- 28.3/39.5 MB 3.2 MB/s eta 0:00:04\n",
      "   ----------------------------- ---------- 29.1/39.5 MB 3.2 MB/s eta 0:00:04\n",
      "   ------------------------------ --------- 29.6/39.5 MB 3.2 MB/s eta 0:00:04\n",
      "   ------------------------------ --------- 30.4/39.5 MB 3.2 MB/s eta 0:00:03\n",
      "   ------------------------------- -------- 31.2/39.5 MB 3.2 MB/s eta 0:00:03\n",
      "   -------------------------------- ------- 32.0/39.5 MB 3.2 MB/s eta 0:00:03\n",
      "   --------------------------------- ------ 32.8/39.5 MB 3.2 MB/s eta 0:00:03\n",
      "   --------------------------------- ------ 33.6/39.5 MB 3.2 MB/s eta 0:00:02\n",
      "   ----------------------------------- ---- 34.6/39.5 MB 3.3 MB/s eta 0:00:02\n",
      "   ----------------------------------- ---- 35.4/39.5 MB 3.3 MB/s eta 0:00:02\n",
      "   ------------------------------------ --- 36.2/39.5 MB 3.3 MB/s eta 0:00:02\n",
      "   ------------------------------------- -- 36.7/39.5 MB 3.3 MB/s eta 0:00:01\n",
      "   ------------------------------------- -- 37.2/39.5 MB 3.2 MB/s eta 0:00:01\n",
      "   -------------------------------------- - 38.0/39.5 MB 3.2 MB/s eta 0:00:01\n",
      "   ---------------------------------------  38.5/39.5 MB 3.2 MB/s eta 0:00:01\n",
      "   ---------------------------------------  39.3/39.5 MB 3.3 MB/s eta 0:00:01\n",
      "   ---------------------------------------  39.3/39.5 MB 3.3 MB/s eta 0:00:01\n",
      "   ---------------------------------------  39.3/39.5 MB 3.3 MB/s eta 0:00:01\n",
      "   ---------------------------------------- 39.5/39.5 MB 3.1 MB/s eta 0:00:00\n",
      "Installing collected packages: opencv-python\n",
      "Successfully installed opencv-python-4.11.0.86\n"
     ]
    },
    {
     "name": "stderr",
     "output_type": "stream",
     "text": [
      "\n",
      "[notice] A new release of pip is available: 25.0 -> 25.1.1\n",
      "[notice] To update, run: python.exe -m pip install --upgrade pip\n"
     ]
    }
   ],
   "source": [
    "!pip install matplotlib \n",
    "!pip install opencv-python "
   ]
  },
  {
   "cell_type": "code",
   "execution_count": 11,
   "id": "b14cd413-2de8-4b04-ad87-74b1ab62c708",
   "metadata": {},
   "outputs": [],
   "source": [
    "import rasterio\n",
    "import numpy as np\n",
    "import matplotlib.pyplot as plt\n",
    "import cv2\n",
    "import os"
   ]
  },
  {
   "cell_type": "code",
   "execution_count": null,
   "id": "bd0778e0-b187-4d4e-b319-71f3839f09ee",
   "metadata": {},
   "outputs": [],
   "source": [
    "from skimage import morphology\n",
    "from skimage.filters import threshold_otsu"
   ]
  },
  {
   "cell_type": "code",
   "execution_count": null,
   "id": "31bfc5f9-f5c3-4faa-a720-4c1b89c1888f",
   "metadata": {},
   "outputs": [],
   "source": [
    "def load_reflectance_image(image_path):\n",
    "    with rasterio.open(image_path) as src:\n",
    "        img = src.read().astype(np.float32)\n",
    "        meta = src.meta\n",
    "    return img, meta"
   ]
  },
  {
   "cell_type": "code",
   "execution_count": null,
   "id": "a304951d-8c32-4d7d-aeb1-66a6c32ec76f",
   "metadata": {},
   "outputs": [],
   "source": [
    "def detect_clouds(image):\n",
    "    rgb = np.transpose(image, (1, 2, 0))  # (H, W, 3)\n",
    "    brightness = np.mean(rgb, axis=2)\n",
    "    thresh = threshold_otsu(brightness)\n",
    "    cloud_mask = (brightness > thresh).astype(np.uint8)\n",
    "    cloud_mask = morphology.remove_small_objects(cloud_mask.astype(bool), 100).astype(np.uint8)\n",
    "    cloud_mask = morphology.binary_closing(cloud_mask, morphology.disk(3)).astype(np.uint8)\n",
    "    return cloud_mask\n"
   ]
  },
  {
   "cell_type": "code",
   "execution_count": null,
   "id": "f8f4be1b-cdce-4c7d-a84f-8ba092c3cfeb",
   "metadata": {},
   "outputs": [],
   "source": [
    "def detect_shadows(image):\n",
    "    rgb = np.transpose(image, (1, 2, 0))\n",
    "    brightness = np.mean(rgb, axis=2)\n",
    "    shadow_thresh = threshold_otsu(brightness) * 0.7  # lower than Otsu\n",
    "    shadow_mask = (brightness < shadow_thresh).astype(np.uint8)\n",
    "    shadow_mask = morphology.remove_small_objects(shadow_mask.astype(bool), 100).astype(np.uint8)\n",
    "    shadow_mask = morphology.binary_opening(shadow_mask, morphology.disk(2)).astype(np.uint8)\n",
    "    return shadow_mask"
   ]
  },
  {
   "cell_type": "code",
   "execution_count": null,
   "id": "723233ab-7120-4627-a63b-c1bb70d17f6d",
   "metadata": {},
   "outputs": [],
   "source": [
    "def generate_and_save_mask(image_path, output_path):\n",
    "    image, meta = load_reflectance_image(image_path)\n",
    "    cloud = detect_clouds(image)\n",
    "    shadow = detect_shadows(image)\n",
    "\n",
    "    # Final mask: 0 = background, 1 = cloud, 2 = shadow\n",
    "    final_mask = np.zeros(cloud.shape, dtype=np.uint8)\n",
    "    final_mask[cloud == 1] = 1\n",
    "    final_mask[shadow == 1] = 2\n",
    "\n",
    "    meta.update(dtype='uint8', count=1)\n",
    "    with rasterio.open(output_path, 'w', **meta) as dst:\n",
    "        dst.write(final_mask, 1)\n",
    "\n",
    "    print(f\"✅ Mask saved to {output_path}\")"
   ]
  },
  {
   "cell_type": "code",
   "execution_count": null,
   "id": "4ba05a44-d08a-4f02-bced-62d81ac36b38",
   "metadata": {},
   "outputs": [],
   "source": [
    "input_image = \"data/processed/images/R2F01JAN2025_reflectance.tif\"\n",
    "output_mask = \"data/processed/masks/R2F01JAN2025_mask.tif\""
   ]
  },
  {
   "cell_type": "code",
   "execution_count": null,
   "id": "cfc266eb-7fbf-4b6d-838f-8582e3c505c2",
   "metadata": {},
   "outputs": [],
   "source": [
    "with rasterio.open(output_mask) as msk:\n",
    "    plt.imshow(msk.read(1), cmap='gray')\n",
    "    plt.title(\"Generated Mask\")\n",
    "    plt.colorbar()\n",
    "    plt.show()\n"
   ]
  }
 ],
 "metadata": {
  "kernelspec": {
   "display_name": "Python 3 (ipykernel)",
   "language": "python",
   "name": "python3"
  },
  "language_info": {
   "codemirror_mode": {
    "name": "ipython",
    "version": 3
   },
   "file_extension": ".py",
   "mimetype": "text/x-python",
   "name": "python",
   "nbconvert_exporter": "python",
   "pygments_lexer": "ipython3",
   "version": "3.12.2"
  }
 },
 "nbformat": 4,
 "nbformat_minor": 5
}
