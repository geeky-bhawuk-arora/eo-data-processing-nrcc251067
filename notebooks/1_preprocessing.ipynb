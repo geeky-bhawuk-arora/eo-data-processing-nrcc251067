{
 "cells": [
  {
   "cell_type": "code",
   "execution_count": 2,
   "id": "d84eaceb-d3a5-4b9c-87a9-982c142638cc",
   "metadata": {},
   "outputs": [
    {
     "name": "stdout",
     "output_type": "stream",
     "text": [
      "Requirement already satisfied: rasterio in c:\\users\\deepika\\appdata\\local\\programs\\python\\python312\\lib\\site-packages (1.4.3)\n",
      "Requirement already satisfied: affine in c:\\users\\deepika\\appdata\\local\\programs\\python\\python312\\lib\\site-packages (from rasterio) (2.4.0)\n",
      "Requirement already satisfied: attrs in c:\\users\\deepika\\appdata\\local\\programs\\python\\python312\\lib\\site-packages (from rasterio) (23.2.0)\n",
      "Requirement already satisfied: certifi in c:\\users\\deepika\\appdata\\local\\programs\\python\\python312\\lib\\site-packages (from rasterio) (2024.2.2)\n",
      "Requirement already satisfied: click>=4.0 in c:\\users\\deepika\\appdata\\local\\programs\\python\\python312\\lib\\site-packages (from rasterio) (8.1.8)\n",
      "Requirement already satisfied: cligj>=0.5 in c:\\users\\deepika\\appdata\\local\\programs\\python\\python312\\lib\\site-packages (from rasterio) (0.7.2)\n",
      "Requirement already satisfied: numpy>=1.24 in c:\\users\\deepika\\appdata\\local\\programs\\python\\python312\\lib\\site-packages (from rasterio) (2.2.2)\n",
      "Requirement already satisfied: click-plugins in c:\\users\\deepika\\appdata\\local\\programs\\python\\python312\\lib\\site-packages (from rasterio) (1.1.1.2)\n",
      "Requirement already satisfied: pyparsing in c:\\users\\deepika\\appdata\\local\\programs\\python\\python312\\lib\\site-packages (from rasterio) (3.2.3)\n",
      "Requirement already satisfied: colorama in c:\\users\\deepika\\appdata\\local\\programs\\python\\python312\\lib\\site-packages (from click>=4.0->rasterio) (0.4.6)\n"
     ]
    },
    {
     "name": "stderr",
     "output_type": "stream",
     "text": [
      "\n",
      "[notice] A new release of pip is available: 25.0 -> 25.1.1\n",
      "[notice] To update, run: python.exe -m pip install --upgrade pip\n"
     ]
    }
   ],
   "source": [
    "!pip install rasterio\n",
    "import numpy as np\n",
    "import rasterio\n",
    "import pandas as pd\n",
    "import math\n",
    "import os"
   ]
  },
  {
   "cell_type": "code",
   "execution_count": 3,
   "id": "138c06a2-8db1-4bd7-bcca-7bcad965f95e",
   "metadata": {},
   "outputs": [],
   "source": [
    "def dn_to_radiance(dn, Lmax, Lmin=0.0, Qmax=255.0):\n",
    "    return ((Lmax - Lmin) / Qmax) * dn + Lmin"
   ]
  },
  {
   "cell_type": "code",
   "execution_count": 4,
   "id": "c1a3d804-0785-4c7c-b503-ff01ac0d8909",
   "metadata": {},
   "outputs": [],
   "source": [
    "def radiance_to_reflectance(L, d, Esun, sun_elevation_deg):\n",
    "    theta_s_rad = math.radians(90 - sun_elevation_deg)\n",
    "    return (np.pi * L * d**2) / (Esun * np.cos(theta_s_rad))"
   ]
  },
  {
   "cell_type": "code",
   "execution_count": 5,
   "id": "be6d72e9-82c0-43d0-8520-ead32cfe4421",
   "metadata": {},
   "outputs": [],
   "source": [
    "def extract_band_meta(meta_path):\n",
    "    lmax = {}\n",
    "    lmin = {}\n",
    "    sun_elevation = None\n",
    "\n",
    "    with open(meta_path, 'r') as f:\n",
    "        for line in f:\n",
    "            if 'SunElevationAtCenter' in line:\n",
    "                sun_elevation = float(line.split('=')[-1].strip())\n",
    "            if 'B2_Lmax' in line:\n",
    "                lmax['B2'] = float(line.split('=')[-1].strip())\n",
    "            if 'B3_Lmax' in line:\n",
    "                lmax['B3'] = float(line.split('=')[-1].strip())\n",
    "            if 'B4_Lmax' in line:\n",
    "                lmax['B4'] = float(line.split('=')[-1].strip())\n",
    "            if 'B2_Lmin' in line:\n",
    "                lmin['B2'] = float(line.split('=')[-1].strip())\n",
    "            if 'B3_Lmin' in line:\n",
    "                lmin['B3'] = float(line.split('=')[-1].strip())\n",
    "            if 'B4_Lmin' in line:\n",
    "                lmin['B4'] = float(line.split('=')[-1].strip())\n",
    "\n",
    "    return sun_elevation, lmax, lmin"
   ]
  },
  {
   "cell_type": "code",
   "execution_count": 6,
   "id": "348ea0b0-d930-471c-92cb-12b85ffc6807",
   "metadata": {},
   "outputs": [],
   "source": [
    "def get_earth_sun_distance(excel_path, doy):\n",
    "    df = pd.read_excel(excel_path)\n",
    "    df.columns = df.columns.str.strip()\n",
    "    return float(df[df['DOY'] == doy]['ESD (AU)'].values[0])"
   ]
  },
  {
   "cell_type": "code",
   "execution_count": null,
   "id": "bbebc9e8-6a3a-49b2-b803-879e1497e5c2",
   "metadata": {},
   "outputs": [],
   "source": [
    "def convert_image_to_toa_reflectance(\n",
    "    image_path, band_meta_path, earth_sun_path, output_path, doy\n",
    "):\n",
    "    # Load image\n",
    "    with rasterio.open(image_path) as src:\n",
    "        bands = src.read().astype(np.float32)  # shape: (3, H, W)\n",
    "        meta = src.meta.copy()\n",
    "\n",
    "    # Load metadata\n",
    "    sun_elevation, lmax_dict, lmin_dict = extract_band_meta(band_meta_path)\n",
    "\n",
    "    # Load Earth–Sun distance\n",
    "    d = get_earth_sun_distance(earth_sun_path, doy)\n",
    "\n",
    "    # Set Esun for RS-2A L4MX\n",
    "    esun_dict = {'B2': 185.347, 'B3': 158.262, 'B4': 110.81}\n",
    "\n",
    "    # Process each band\n",
    "    toa_bands = []\n",
    "    for i, band_name in enumerate(['B2', 'B3', 'B4']):\n",
    "        dn = bands[i]\n",
    "        L = dn_to_radiance(dn, Lmax=lmax_dict[band_name], Lmin=lmin_dict[band_name])\n",
    "        refl = radiance_to_reflectance(L, d, esun_dict[band_name], sun_elevation)\n",
    "        toa_bands.append(refl)\n",
    "\n",
    "    toa = np.stack(toa_bands).astype(np.float32)\n",
    "\n",
    "    # Save output\n",
    "    meta.update(dtype='float32', count=3)\n",
    "    with rasterio.open(output_path, 'w', **meta) as dst:\n",
    "        dst.write(toa)\n",
    "\n",
    "    print(\"✅ Saved TOA Reflectance to:\", output_path)"
   ]
  },
  {
   "cell_type": "code",
   "execution_count": null,
   "id": "92147595-8455-4258-b9d8-95a7d9449d85",
   "metadata": {},
   "outputs": [],
   "source": [
    "image_path = \"data/raw/R2F01JAN2025071113010900054SSANSTUC00GTDD.tif\"\n",
    "band_meta_path = \"data/raw/BAND_META.txt\"\n",
    "earth_sun_path = \"data/raw/Earth_Sun_distance.xlsx\"\n",
    "output_path = \"data/processed/images/R2F01JAN2025_reflectance.tif\"\n",
    "doy = 1  # Jan 1st\n",
    "\n",
    "convert_image_to_toa_reflectance(\n",
    "    image_path, band_meta_path, earth_sun_path, output_path, doy\n",
    ")  # ✅ DONE\n"
   ]
  }
 ],
 "metadata": {
  "kernelspec": {
   "display_name": "Python 3 (ipykernel)",
   "language": "python",
   "name": "python3"
  },
  "language_info": {
   "codemirror_mode": {
    "name": "ipython",
    "version": 3
   },
   "file_extension": ".py",
   "mimetype": "text/x-python",
   "name": "python",
   "nbconvert_exporter": "python",
   "pygments_lexer": "ipython3",
   "version": "3.12.2"
  }
 },
 "nbformat": 4,
 "nbformat_minor": 5
}
