{
 "cells": [
  {
   "cell_type": "code",
   "execution_count": null,
   "id": "36eacd9a-916e-46fe-8102-3b0f2932ce1a",
   "metadata": {},
   "outputs": [],
   "source": [
    "import torch\n",
    "import numpy as np\n",
    "import rasterio\n",
    "from rasterio.features import shapes\n",
    "import geopandas as gpd\n",
    "from shapely.geometry import shape\n",
    "import os\n",
    "from model import UNet  # Make sure UNet class is available in model.py or earlier notebook"
   ]
  },
  {
   "cell_type": "code",
   "execution_count": null,
   "id": "69f12c05-9372-44c4-95d5-06d48b9cfdd1",
   "metadata": {},
   "outputs": [],
   "source": [
    "def load_model(weights_path):\n",
    "    model = UNet(in_channels=3, out_classes=3)\n",
    "    model.load_state_dict(torch.load(weights_path, map_location='cpu'))\n",
    "    model.eval()\n",
    "    return model\n"
   ]
  },
  {
   "cell_type": "code",
   "execution_count": null,
   "id": "0b4fadb8-ac99-4bca-a612-5d8938c33e16",
   "metadata": {},
   "outputs": [],
   "source": [
    "def predict_mask(model, image_path):\n",
    "    with rasterio.open(image_path) as src:\n",
    "        image = src.read().astype(np.float32) / 1.0\n",
    "        meta = src.meta.copy()\n",
    "\n",
    "    x = torch.tensor(image).unsqueeze(0)  # (1, 3, H, W)\n",
    "    with torch.no_grad():\n",
    "        out = model(x)\n",
    "        pred = out.argmax(dim=1).squeeze().cpu().numpy().astype(np.uint8)\n",
    "\n",
    "    return pred, meta\n"
   ]
  },
  {
   "cell_type": "code",
   "execution_count": null,
   "id": "cafabb47-599d-4d6f-a598-44adaafa4237",
   "metadata": {},
   "outputs": [],
   "source": [
    "def save_mask(mask, meta, output_path):\n",
    "    meta.update(dtype='uint8', count=1)\n",
    "    with rasterio.open(output_path, 'w', **meta) as dst:\n",
    "        dst.write(mask, 1)\n"
   ]
  },
  {
   "cell_type": "code",
   "execution_count": null,
   "id": "6b9b058e-dbec-4117-bb8b-d8264297a263",
   "metadata": {},
   "outputs": [],
   "source": [
    "def mask_to_shapefile(mask_path, output_shapefile_path):\n",
    "    with rasterio.open(mask_path) as src:\n",
    "        mask = src.read(1)\n",
    "        transform = src.transform\n",
    "\n",
    "    geometries = list(shapes(mask, mask > 0, transform=transform))\n",
    "    records = []\n",
    "    for geom, val in geometries:\n",
    "        records.append({\"geometry\": shape(geom), \"class\": int(val)})\n",
    "\n",
    "    gdf = gpd.GeoDataFrame.from_records(records, crs=src.crs)\n",
    "    gdf.to_file(output_shapefile_path)\n",
    "\n",
    "    print(f\"✅ Shapefile saved to {output_shapefile_path}\")"
   ]
  },
  {
   "cell_type": "code",
   "execution_count": null,
   "id": "144cb669-8953-465b-832b-1ea8077c02f1",
   "metadata": {},
   "outputs": [],
   "source": [
    "input_image = \"data/test/R2F_TEST_01.tif\"\n",
    "output_mask = \"outputs/inference/R2F_TEST_01_predicted_mask.tif\"\n",
    "output_shapefile = \"outputs/inference/R2F_TEST_01_shapes.shp\"\n",
    "weights_path = \"model/unet_cloud_shadow.pth\"\n",
    "\n",
    "os.makedirs(\"outputs/inference\", exist_ok=True)\n",
    "\n",
    "model = load_model(weights_path)\n",
    "pred_mask, meta = predict_mask(model, input_image)\n",
    "save_mask(pred_mask, meta, output_mask)\n",
    "mask_to_shapefile(output_mask, output_shapefile)"
   ]
  }
 ],
 "metadata": {
  "kernelspec": {
   "display_name": "Python 3 (ipykernel)",
   "language": "python",
   "name": "python3"
  },
  "language_info": {
   "codemirror_mode": {
    "name": "ipython",
    "version": 3
   },
   "file_extension": ".py",
   "mimetype": "text/x-python",
   "name": "python",
   "nbconvert_exporter": "python",
   "pygments_lexer": "ipython3",
   "version": "3.12.2"
  }
 },
 "nbformat": 4,
 "nbformat_minor": 5
}
